{
 "cells": [
  {
   "cell_type": "markdown",
   "id": "92c86eb4",
   "metadata": {},
   "source": [
    "# Action and Policy\n",
    "\n",
    "[![Click and Open In Colab](https://colab.research.google.com/assets/colab-badge.svg)](https://colab.research.google.com/github/metadriverse/metadrive/blob/main/documentation/source/action.ipynb)\n",
    "\n",
    "This section will discuss how to control the vehicle in MetaDrive with the *Policy* interface. Before this, let's have a look at the raw control signal required by vehicles.\n",
    "\n",
    "## Action\n",
    "\n",
    "To control vehicles in MetaDrive, the input should be a normalized action: $\\mathbf a = [a_1, a_2] \\in [-1, 1]^2$. This action is converted into the steering $u_s$ (degree), acceleration $u_a$ (hp) and brake signal $u_b$ (hp) in the following ways:\n",
    "\n",
    "$u_s = S_{max} a_1$  \n",
    "$u_a = F_{max} \\max(0, a_2)$  \n",
    "$u_b = -B_{max} \\min(0, a_2)$  \n",
    "\n",
    "wherein $S_{max}$ (degree) is the maximal steering angle, $F_{max}$ (hp) is the maximal engine force, and $B_{max}$ (hp) is the maximal brake force. \n",
    "To increase diversity, the accurate values of these parameters vary across different vehicles but are limited to certain ranges defined by [VehicleParameterSpace](https://github.com/metadriverse/metadrive/blob/main/metadrive/component/pg_space.py).\n",
    "\n",
    "The steering $u_s$ is applied to two front wheels. In addition, the engine force $u_a$ and the brake force $u_b$ are applied to four wheels, as the car in MetaDrive is four-wheel drive (4WD). The concrete implementation is as follows:"
   ]
  }
 ],
 "metadata": {
  "kernelspec": {
   "display_name": "Python 3 (ipykernel)",
   "language": "python",
   "name": "python3"
  },
  "language_info": {
   "codemirror_mode": {
    "name": "ipython",
    "version": 3
   },
   "file_extension": ".py",
   "mimetype": "text/x-python",
   "name": "python",
   "nbconvert_exporter": "python",
   "pygments_lexer": "ipython3",
   "version": "3.7.13"
  },
  "mystnb": {
   "execution_mode": "auto"
  }
 },
 "nbformat": 4,
 "nbformat_minor": 5
}
